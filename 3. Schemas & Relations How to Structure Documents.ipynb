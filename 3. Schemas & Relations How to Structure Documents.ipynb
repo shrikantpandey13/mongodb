{
 "cells": [
  {
   "cell_type": "markdown",
   "metadata": {},
   "source": [
    "### Schemas"
   ]
  },
  {
   "cell_type": "markdown",
   "metadata": {},
   "source": [
    "![](images/schemas.png)"
   ]
  },
  {
   "cell_type": "markdown",
   "metadata": {},
   "source": [
    "### Data Types\n",
    "![](images/data_types.png)"
   ]
  },
  {
   "cell_type": "markdown",
   "metadata": {},
   "source": [
    "### One to One relation using embedded method\n"
   ]
  },
  {
   "cell_type": "markdown",
   "metadata": {},
   "source": [
    "db.patients.insertOne({name: \"MaxJohn\",age: 29,diseaseSummary: {disease: [\"cold\",\"broken-leg\"]}}"
   ]
  },
  {
   "cell_type": "markdown",
   "metadata": {},
   "source": [
    "### One to One relation using references"
   ]
  },
  {
   "cell_type": "raw",
   "metadata": {},
   "source": [
    "# persons collections\n",
    "db.persons.insertOne({name: \"John\",age: 29, salary: 3000})\n",
    "\n",
    "# cars collections\n",
    "db.cars.insertOne({model: \"BMW\",price: 40000, owner: ObjectId(\"5ed72a9e164e4dc5a41377ef\")})\n",
    "\"\"\"\n",
    "Here ObjectId is id of persons document id\n",
    "\"\"\""
   ]
  },
  {
   "cell_type": "code",
   "execution_count": 1,
   "metadata": {
    "ExecuteTime": {
     "end_time": "2020-06-03T04:15:20.502328Z",
     "start_time": "2020-06-03T04:15:20.226484Z"
    }
   },
   "outputs": [],
   "source": []
  },
  {
   "cell_type": "markdown",
   "metadata": {},
   "source": [
    "# One to Many Embedded method"
   ]
  },
  {
   "cell_type": "markdown",
   "metadata": {},
   "source": [
    "![](images/one_to_many.png)"
   ]
  },
  {
   "cell_type": "raw",
   "metadata": {},
   "source": [
    "\"\"\" demo purpose\n",
    "\n",
    "db.questionThreads.insertOne({creator: \"John\",question: \"What is machine learning\", answers:[\"Machine learning is part of Artificial Intelligence\",\"Machine learning comes under data science\"]})\n",
    "\n",
    "\n",
    "db.questionThreads.findOne()\n",
    "\n",
    "\n",
    "\n",
    "db.answers.insertMany([{_id: \"ml1\",text: \"Hi\"},{_id: \"ml2\",text: \"thnaks\"}])\n",
    "\n",
    "\"\"\""
   ]
  },
  {
   "cell_type": "raw",
   "metadata": {},
   "source": [
    "\n",
    "\n",
    "\"\"\"\n",
    "main content here\n",
    "\n",
    "db.questionThreads.insertOne({creator: \"John\", question: \"What is machine learning\", answers: [{text: \"ml is part of AI.\"}, {text: \"ml is data science\"}]})\n",
    "\n",
    "\n",
    "\n",
    "\"\"\""
   ]
  },
  {
   "cell_type": "markdown",
   "metadata": {},
   "source": [
    "### One to many using references method"
   ]
  },
  {
   "cell_type": "raw",
   "metadata": {},
   "source": [
    "db.cities.insertOne({name: \"Sultanpur\", coordinates: {lat: 24,lng: 34}})\n",
    "\n",
    "db.citizen.insertMany([{name: \"Shrikant\", cityId: ObjectId(\"5ed73564164e4dc5a41377f3\")}, {name: \"Vandana\",cityId:ObjectId(\"5ed73564164e4dc5a41377f3\")}])"
   ]
  },
  {
   "cell_type": "code",
   "execution_count": null,
   "metadata": {},
   "outputs": [],
   "source": []
  },
  {
   "cell_type": "markdown",
   "metadata": {},
   "source": [
    "### Many to Many using references"
   ]
  },
  {
   "cell_type": "code",
   "execution_count": null,
   "metadata": {},
   "outputs": [],
   "source": []
  },
  {
   "cell_type": "code",
   "execution_count": null,
   "metadata": {},
   "outputs": [],
   "source": []
  },
  {
   "cell_type": "code",
   "execution_count": null,
   "metadata": {},
   "outputs": [],
   "source": []
  },
  {
   "cell_type": "code",
   "execution_count": 2,
   "metadata": {
    "ExecuteTime": {
     "end_time": "2020-06-03T04:15:20.520247Z",
     "start_time": "2020-06-03T04:15:20.506304Z"
    }
   },
   "outputs": [],
   "source": [
    "import pymongo \n",
    "import pprint\n",
    "mongo_uri = \"mongodb://localhost:27017/\"  \n",
    "client = pymongo.MongoClient(mongo_uri)"
   ]
  },
  {
   "cell_type": "code",
   "execution_count": 3,
   "metadata": {
    "ExecuteTime": {
     "end_time": "2020-06-03T04:15:20.559143Z",
     "start_time": "2020-06-03T04:15:20.523238Z"
    }
   },
   "outputs": [
    {
     "data": {
      "text/plain": [
       "['admin', 'config', 'flights', 'hospital', 'local']"
      ]
     },
     "execution_count": 3,
     "metadata": {},
     "output_type": "execute_result"
    }
   ],
   "source": [
    "# see the available databases\n",
    "client.list_database_names()"
   ]
  },
  {
   "cell_type": "code",
   "execution_count": null,
   "metadata": {},
   "outputs": [],
   "source": []
  }
 ],
 "metadata": {
  "kernelspec": {
   "display_name": "Python 3",
   "language": "python",
   "name": "python3"
  },
  "language_info": {
   "codemirror_mode": {
    "name": "ipython",
    "version": 3
   },
   "file_extension": ".py",
   "mimetype": "text/x-python",
   "name": "python",
   "nbconvert_exporter": "python",
   "pygments_lexer": "ipython3",
   "version": "3.6.6"
  }
 },
 "nbformat": 4,
 "nbformat_minor": 2
}
