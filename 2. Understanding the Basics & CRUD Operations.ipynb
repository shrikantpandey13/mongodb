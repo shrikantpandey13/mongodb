{
 "cells": [
  {
   "cell_type": "markdown",
   "metadata": {},
   "source": [
    "# show the list of databases\n",
    "show dbs "
   ]
  },
  {
   "cell_type": "markdown",
   "metadata": {},
   "source": [
    "###  use the specifc db\n",
    "use \"database_name\""
   ]
  },
  {
   "cell_type": "markdown",
   "metadata": {},
   "source": [
    "### Insert data into collection(table)\n",
    "db.flightData.insertOne(data,options) <br> <br>\n",
    "db.flightData.insertMany(data,options)\n"
   ]
  },
  {
   "cell_type": "raw",
   "metadata": {},
   "source": [
    "db.flightData.insertMany([\n",
    "  {\n",
    "    \"departureAirport\": \"MUC\",\n",
    "    \"arrivalAirport\": \"SFO\",\n",
    "    \"aircraft\": \"Airbus A380\",\n",
    "    \"distance\": 12000,\n",
    "    \"intercontinental\": true\n",
    "  },\n",
    "  {\n",
    "    \"departureAirport\": \"LHR\",\n",
    "    \"arrivalAirport\": \"TXL\",\n",
    "    \"aircraft\": \"Airbus A320\",\n",
    "    \"distance\": 950,\n",
    "    \"intercontinental\": false\n",
    "  }\n",
    "]\n",
    ")"
   ]
  },
  {
   "cell_type": "markdown",
   "metadata": {},
   "source": [
    "### Delete data from collection(table)\n",
    "db.flightData.deleteOne(data,options) <br> <br>\n",
    "db.flightData.deleteMany(data,options)"
   ]
  },
  {
   "cell_type": "markdown",
   "metadata": {},
   "source": [
    "### Read data from collection(table)\n",
    "db.flightData.readOne(data,options) <br> <br>\n",
    "db.flightData.readMany(data,options)"
   ]
  },
  {
   "cell_type": "markdown",
   "metadata": {},
   "source": [
    "### update data from collection(table)\n",
    "db.flightData.updateOne(data,options) <br> <br>\n",
    "db.flightData.updateMany(data,options)"
   ]
  },
  {
   "cell_type": "raw",
   "metadata": {
    "ExecuteTime": {
     "end_time": "2020-06-02T12:26:53.685274Z",
     "start_time": "2020-06-02T12:26:53.675301Z"
    }
   },
   "source": [
    "db.flightData.updateOne({distance:1200},{$set: {marker: \"delete\"}})"
   ]
  },
  {
   "cell_type": "raw",
   "metadata": {
    "ExecuteTime": {
     "end_time": "2020-06-02T12:28:05.109620Z",
     "start_time": "2020-06-02T12:28:05.103637Z"
    }
   },
   "source": [
    "db.flightData.updateMany({},{$set: {marker:\"toDelete\"}})\n"
   ]
  },
  {
   "cell_type": "markdown",
   "metadata": {},
   "source": [
    "### find method in mongodb"
   ]
  },
  {
   "cell_type": "raw",
   "metadata": {},
   "source": [
    "# it will return all docement where intercontinental ==  true\n",
    "db.flightData.find(intercontinental: true).pretty()"
   ]
  },
  {
   "cell_type": "raw",
   "metadata": {},
   "source": [
    "# it will return all document where distance is greater than 9000\n",
    "db.flightData.find(distance: {$gt: 9000}).pretty()"
   ]
  },
  {
   "cell_type": "raw",
   "metadata": {},
   "source": [
    "### show more documents type\n",
    "it"
   ]
  },
  {
   "cell_type": "markdown",
   "metadata": {},
   "source": [
    "find does not gives the all documents "
   ]
  },
  {
   "cell_type": "markdown",
   "metadata": {
    "ExecuteTime": {
     "end_time": "2020-06-02T14:20:08.882947Z",
     "start_time": "2020-06-02T14:20:08.580555Z"
    }
   },
   "source": [
    "db.passengers.find().toArray() # convert all documnets to in array\n"
   ]
  },
  {
   "cell_type": "markdown",
   "metadata": {},
   "source": [
    "## Understand Projection in mongoDB"
   ]
  },
  {
   "cell_type": "raw",
   "metadata": {},
   "source": [
    "\"\"\" \n",
    "projection in mongoDB is like find out the subset of documnets.\n",
    "\"\"\"\n",
    "db.passengers.find({},{name: 1}).pretty()\n",
    "db.passengers.find({},{name: 1,_id: 0}).pretty()"
   ]
  },
  {
   "cell_type": "markdown",
   "metadata": {},
   "source": [
    "### Embedded documnets and array \n",
    "An embedded document can have multiple  sub document and the sub document can have sub document and may be so on this is called embedded documents"
   ]
  },
  {
   "cell_type": "raw",
   "metadata": {},
   "source": [
    "db.flightData.updateMany({},{$set: {status: {description: \"on-time\",lastUpdated: \"1 hour ago\"}}})"
   ]
  },
  {
   "cell_type": "markdown",
   "metadata": {},
   "source": [
    "### Working with the Array"
   ]
  },
  {
   "cell_type": "markdown",
   "metadata": {},
   "source": [
    "db.passengers.updateOne({name: \"Albert Twostone\"}, {$set: {hobbies:[\"sports\",\"cooking\"]}})"
   ]
  },
  {
   "cell_type": "markdown",
   "metadata": {},
   "source": [
    "### Accessing the strucrted data"
   ]
  },
  {
   "cell_type": "markdown",
   "metadata": {},
   "source": [
    "db.passengers.updateOne({name: \"Albert Twostone\"}).hobbies"
   ]
  },
  {
   "cell_type": "markdown",
   "metadata": {},
   "source": [
    "db.passengers.find({hobbies: \"sports\"}).pretty()\n"
   ]
  },
  {
   "cell_type": "code",
   "execution_count": null,
   "metadata": {},
   "outputs": [],
   "source": []
  }
 ],
 "metadata": {
  "kernelspec": {
   "display_name": "Python 3",
   "language": "python",
   "name": "python3"
  },
  "language_info": {
   "codemirror_mode": {
    "name": "ipython",
    "version": 3
   },
   "file_extension": ".py",
   "mimetype": "text/x-python",
   "name": "python",
   "nbconvert_exporter": "python",
   "pygments_lexer": "ipython3",
   "version": "3.6.6"
  }
 },
 "nbformat": 4,
 "nbformat_minor": 2
}
