{
 "cells": [
  {
   "cell_type": "code",
   "execution_count": 29,
   "metadata": {
    "ExecuteTime": {
     "end_time": "2020-06-03T14:20:17.576443Z",
     "start_time": "2020-06-03T14:20:17.572709Z"
    }
   },
   "outputs": [],
   "source": [
    "from pymongo import MongoClient"
   ]
  },
  {
   "cell_type": "code",
   "execution_count": 35,
   "metadata": {
    "ExecuteTime": {
     "end_time": "2020-06-03T14:44:55.262505Z",
     "start_time": "2020-06-03T14:44:55.252237Z"
    }
   },
   "outputs": [],
   "source": [
    "# Start Client using \"mongo\" command in another Termial.\n",
    "# In client terminal execute these both command to create database and collection\n",
    "# use demo\n",
    "# db.createCollection(\"students\")\n",
    "# show dbs\n",
    "# show collections"
   ]
  },
  {
   "cell_type": "code",
   "execution_count": null,
   "metadata": {
    "ExecuteTime": {
     "end_time": "2020-06-03T14:14:08.969846Z",
     "start_time": "2020-06-03T14:14:08.954752Z"
    }
   },
   "outputs": [],
   "source": []
  },
  {
   "cell_type": "code",
   "execution_count": 36,
   "metadata": {
    "ExecuteTime": {
     "end_time": "2020-06-03T14:44:59.149840Z",
     "start_time": "2020-06-03T14:44:59.141827Z"
    }
   },
   "outputs": [],
   "source": [
    "client = MongoClient(host='localhost',port=27017)\n",
    "# print(\"Connected to MongoDB:\")\n",
    "# print(\"Database connected\")\n",
    "# mydb = client[\"demo\"]\n",
    "# student_coll = mydb[\"student\"]"
   ]
  },
  {
   "cell_type": "code",
   "execution_count": 37,
   "metadata": {
    "ExecuteTime": {
     "end_time": "2020-06-03T14:45:02.932958Z",
     "start_time": "2020-06-03T14:45:02.926289Z"
    }
   },
   "outputs": [
    {
     "name": "stdout",
     "output_type": "stream",
     "text": [
      "['Dataset', 'admin', 'cardData', 'cityData', 'config', 'contactData', 'demo', 'flights', 'hospital', 'local', 'mydatabase', 'support']\n"
     ]
    }
   ],
   "source": [
    "print(client.list_database_names())"
   ]
  },
  {
   "cell_type": "code",
   "execution_count": 38,
   "metadata": {
    "ExecuteTime": {
     "end_time": "2020-06-03T14:46:08.066105Z",
     "start_time": "2020-06-03T14:46:08.054661Z"
    }
   },
   "outputs": [],
   "source": [
    "# Create database variable to work on any database \"demo\"\n",
    "demo_db = client[\"demo\"]"
   ]
  },
  {
   "cell_type": "code",
   "execution_count": 39,
   "metadata": {
    "ExecuteTime": {
     "end_time": "2020-06-03T14:46:34.710388Z",
     "start_time": "2020-06-03T14:46:34.699688Z"
    }
   },
   "outputs": [
    {
     "data": {
      "text/plain": [
       "['students']"
      ]
     },
     "execution_count": 39,
     "metadata": {},
     "output_type": "execute_result"
    }
   ],
   "source": [
    "# To fetch all collection inside \"demo\" database\n",
    "demo_db.list_collection_names()"
   ]
  },
  {
   "cell_type": "code",
   "execution_count": 40,
   "metadata": {
    "ExecuteTime": {
     "end_time": "2020-06-03T14:47:56.823162Z",
     "start_time": "2020-06-03T14:47:56.716493Z"
    }
   },
   "outputs": [
    {
     "data": {
      "text/plain": [
       "0"
      ]
     },
     "execution_count": 40,
     "metadata": {},
     "output_type": "execute_result"
    }
   ],
   "source": [
    "student_coll = demo_db[\"students\"]\n",
    "\n",
    "# count the number of documents \n",
    "students.count_documents({})"
   ]
  },
  {
   "cell_type": "code",
   "execution_count": 41,
   "metadata": {
    "ExecuteTime": {
     "end_time": "2020-06-03T14:48:26.991116Z",
     "start_time": "2020-06-03T14:48:26.984922Z"
    }
   },
   "outputs": [],
   "source": [
    "# Multiple insert\n",
    "studentlist = [\n",
    "  { \"id\":1,\"name\":\"Binod Suman\",\"country\":\"IN\"},\n",
    "  { \"id\":2,\"name\":\"Bill Gates\",\"country\":\"US\"},\n",
    "  { \"id\":3,\"name\":\"Steve Jobs\",\"country\":\"US\"},\n",
    "  { \"id\":4,\"name\":\"Narayan Murthy\",\"country\":\"IN\"},\n",
    "  { \"id\":5,\"name\":\"Azim Premji\",\"country\":\"IN\"},\n",
    "  { \"id\":6,\"name\":\"Nandan Nilekani\",\"country\":\"IN\"},\n",
    "  { \"id\":7,\"name\":\"sundar pichai\",\"country\":\"IN\"}\n",
    "]"
   ]
  },
  {
   "cell_type": "code",
   "execution_count": 42,
   "metadata": {
    "ExecuteTime": {
     "end_time": "2020-06-03T14:48:44.770380Z",
     "start_time": "2020-06-03T14:48:44.752213Z"
    }
   },
   "outputs": [
    {
     "data": {
      "text/plain": [
       "<pymongo.results.InsertManyResult at 0x1ef15413b08>"
      ]
     },
     "execution_count": 42,
     "metadata": {},
     "output_type": "execute_result"
    }
   ],
   "source": [
    "students.insert_many(studentlist)"
   ]
  },
  {
   "cell_type": "code",
   "execution_count": 43,
   "metadata": {
    "ExecuteTime": {
     "end_time": "2020-06-03T14:49:38.728424Z",
     "start_time": "2020-06-03T14:49:38.716598Z"
    }
   },
   "outputs": [
    {
     "name": "stdout",
     "output_type": "stream",
     "text": [
      "Number of documents  7\n"
     ]
    }
   ],
   "source": [
    "print(\"Number of documents: \",students.count_documents({}))"
   ]
  },
  {
   "cell_type": "code",
   "execution_count": 44,
   "metadata": {
    "ExecuteTime": {
     "end_time": "2020-06-03T14:50:44.264442Z",
     "start_time": "2020-06-03T14:50:43.914978Z"
    }
   },
   "outputs": [
    {
     "name": "stdout",
     "output_type": "stream",
     "text": [
      "{'_id': ObjectId('5ed7b84ccfad4773f599cb8e'), 'id': 1, 'name': 'Binod Suman', 'country': 'IN'}\n",
      "{'_id': ObjectId('5ed7b84ccfad4773f599cb8f'), 'id': 2, 'name': 'Bill Gates', 'country': 'US'}\n",
      "{'_id': ObjectId('5ed7b84ccfad4773f599cb90'), 'id': 3, 'name': 'Steve Jobs', 'country': 'US'}\n",
      "{'_id': ObjectId('5ed7b84ccfad4773f599cb91'), 'id': 4, 'name': 'Narayan Murthy', 'country': 'IN'}\n",
      "{'_id': ObjectId('5ed7b84ccfad4773f599cb92'), 'id': 5, 'name': 'Azim Premji', 'country': 'IN'}\n",
      "{'_id': ObjectId('5ed7b84ccfad4773f599cb93'), 'id': 6, 'name': 'Nandan Nilekani', 'country': 'IN'}\n",
      "{'_id': ObjectId('5ed7b84ccfad4773f599cb94'), 'id': 7, 'name': 'sundar pichai', 'country': 'IN'}\n"
     ]
    }
   ],
   "source": [
    "# Display all records\n",
    "for student in students.find():\n",
    "    print(student)"
   ]
  },
  {
   "cell_type": "code",
   "execution_count": 45,
   "metadata": {
    "ExecuteTime": {
     "end_time": "2020-06-03T14:51:17.381021Z",
     "start_time": "2020-06-03T14:51:17.366495Z"
    }
   },
   "outputs": [
    {
     "name": "stdout",
     "output_type": "stream",
     "text": [
      "{'_id': ObjectId('5ed7b84ccfad4773f599cb8e'), 'id': 1, 'name': 'Binod Suman', 'country': 'IN'}\n",
      "{'_id': ObjectId('5ed7b84ccfad4773f599cb8f'), 'id': 2, 'name': 'Bill Gates', 'country': 'US'}\n"
     ]
    }
   ],
   "source": [
    "# Display limited documents\n",
    "for student in students.find().limit(2):\n",
    "    print(student)"
   ]
  },
  {
   "cell_type": "code",
   "execution_count": 46,
   "metadata": {
    "ExecuteTime": {
     "end_time": "2020-06-03T18:15:24.411534Z",
     "start_time": "2020-06-03T18:15:24.175845Z"
    }
   },
   "outputs": [
    {
     "name": "stdout",
     "output_type": "stream",
     "text": [
      "{'name': 'Binod Suman', 'country': 'IN'}\n",
      "{'name': 'Bill Gates', 'country': 'US'}\n",
      "{'name': 'Steve Jobs', 'country': 'US'}\n",
      "{'name': 'Narayan Murthy', 'country': 'IN'}\n",
      "{'name': 'Azim Premji', 'country': 'IN'}\n",
      "{'name': 'Nandan Nilekani', 'country': 'IN'}\n",
      "{'name': 'sundar pichai', 'country': 'IN'}\n"
     ]
    }
   ],
   "source": [
    "\n",
    "# Show only name and country details\n",
    "for student in students.find({},{\"_id\": 0,\"name\": 1,\"country\": 1}):\n",
    "    print(student)"
   ]
  },
  {
   "cell_type": "code",
   "execution_count": 47,
   "metadata": {
    "ExecuteTime": {
     "end_time": "2020-06-03T18:15:58.134027Z",
     "start_time": "2020-06-03T18:15:58.117500Z"
    }
   },
   "outputs": [
    {
     "name": "stdout",
     "output_type": "stream",
     "text": [
      "{'_id': ObjectId('5ed7b84ccfad4773f599cb8e'), 'id': 1, 'name': 'Binod Suman', 'country': 'IN'}\n",
      "{'_id': ObjectId('5ed7b84ccfad4773f599cb91'), 'id': 4, 'name': 'Narayan Murthy', 'country': 'IN'}\n",
      "{'_id': ObjectId('5ed7b84ccfad4773f599cb92'), 'id': 5, 'name': 'Azim Premji', 'country': 'IN'}\n",
      "{'_id': ObjectId('5ed7b84ccfad4773f599cb93'), 'id': 6, 'name': 'Nandan Nilekani', 'country': 'IN'}\n",
      "{'_id': ObjectId('5ed7b84ccfad4773f599cb94'), 'id': 7, 'name': 'sundar pichai', 'country': 'IN'}\n"
     ]
    }
   ],
   "source": [
    "# Get all record country is IN\n",
    "for student in students.find({\"country\":\"IN\"}):\n",
    "    print(student)"
   ]
  },
  {
   "cell_type": "code",
   "execution_count": 48,
   "metadata": {
    "ExecuteTime": {
     "end_time": "2020-06-03T18:16:19.661260Z",
     "start_time": "2020-06-03T18:16:19.552526Z"
    }
   },
   "outputs": [
    {
     "name": "stdout",
     "output_type": "stream",
     "text": [
      "{'_id': ObjectId('5ed7b84ccfad4773f599cb90'), 'id': 3, 'name': 'Steve Jobs', 'country': 'US'}\n",
      "{'_id': ObjectId('5ed7b84ccfad4773f599cb91'), 'id': 4, 'name': 'Narayan Murthy', 'country': 'IN'}\n",
      "{'_id': ObjectId('5ed7b84ccfad4773f599cb92'), 'id': 5, 'name': 'Azim Premji', 'country': 'IN'}\n",
      "{'_id': ObjectId('5ed7b84ccfad4773f599cb93'), 'id': 6, 'name': 'Nandan Nilekani', 'country': 'IN'}\n",
      "{'_id': ObjectId('5ed7b84ccfad4773f599cb94'), 'id': 7, 'name': 'sundar pichai', 'country': 'IN'}\n"
     ]
    }
   ],
   "source": [
    "# Get all record id is more than 2\n",
    "for student in students.find({\"id\":{\"$gt\": 2}}):\n",
    "    print(student)"
   ]
  },
  {
   "cell_type": "code",
   "execution_count": 49,
   "metadata": {
    "ExecuteTime": {
     "end_time": "2020-06-03T18:16:50.854195Z",
     "start_time": "2020-06-03T18:16:50.727446Z"
    }
   },
   "outputs": [
    {
     "name": "stdout",
     "output_type": "stream",
     "text": [
      "{'_id': ObjectId('5ed7b84ccfad4773f599cb8e'), 'id': 1, 'name': 'Binod Suman', 'country': 'IN'}\n",
      "{'_id': ObjectId('5ed7b84ccfad4773f599cb8f'), 'id': 2, 'name': 'Bill Gates', 'country': 'US'}\n"
     ]
    }
   ],
   "source": [
    "\n",
    "# Get all record name start with \"B\"\n",
    "for student in students.find({\"name\":{\"$regex\": \"^B\"}}):\n",
    "    print(student)"
   ]
  },
  {
   "cell_type": "code",
   "execution_count": 50,
   "metadata": {
    "ExecuteTime": {
     "end_time": "2020-06-03T18:17:26.340233Z",
     "start_time": "2020-06-03T18:17:25.550578Z"
    }
   },
   "outputs": [
    {
     "name": "stdout",
     "output_type": "stream",
     "text": [
      "{'_id': ObjectId('5ed7b84ccfad4773f599cb92'), 'id': 5, 'name': 'Azim Premji', 'country': 'IN'}\n",
      "{'_id': ObjectId('5ed7b84ccfad4773f599cb8f'), 'id': 2, 'name': 'Bill Gates', 'country': 'US'}\n",
      "{'_id': ObjectId('5ed7b84ccfad4773f599cb8e'), 'id': 1, 'name': 'Binod Suman', 'country': 'IN'}\n",
      "{'_id': ObjectId('5ed7b84ccfad4773f599cb93'), 'id': 6, 'name': 'Nandan Nilekani', 'country': 'IN'}\n",
      "{'_id': ObjectId('5ed7b84ccfad4773f599cb91'), 'id': 4, 'name': 'Narayan Murthy', 'country': 'IN'}\n",
      "{'_id': ObjectId('5ed7b84ccfad4773f599cb90'), 'id': 3, 'name': 'Steve Jobs', 'country': 'US'}\n",
      "{'_id': ObjectId('5ed7b84ccfad4773f599cb94'), 'id': 7, 'name': 'sundar pichai', 'country': 'IN'}\n"
     ]
    }
   ],
   "source": [
    "# Sort on name field\n",
    "# Display all records\n",
    "for student in students.find().sort(\"name\"):\n",
    "    print(student)"
   ]
  },
  {
   "cell_type": "code",
   "execution_count": 51,
   "metadata": {
    "ExecuteTime": {
     "end_time": "2020-06-03T18:20:02.723284Z",
     "start_time": "2020-06-03T18:20:02.461982Z"
    }
   },
   "outputs": [
    {
     "name": "stdout",
     "output_type": "stream",
     "text": [
      "5 documents updated.\n"
     ]
    }
   ],
   "source": [
    "\n",
    "#Update Many\n",
    "myquery = { \"country\": { \"$regex\": \"^IN\" } }\n",
    "newvalues = { \"$set\": { \"country\": \"IND\" } }\n",
    "\n",
    "result = students.update_many(myquery, newvalues)\n",
    "\n",
    "print(result.modified_count, \"documents updated.\")"
   ]
  },
  {
   "cell_type": "code",
   "execution_count": null,
   "metadata": {},
   "outputs": [],
   "source": []
  }
 ],
 "metadata": {
  "kernelspec": {
   "display_name": "Python 3",
   "language": "python",
   "name": "python3"
  },
  "language_info": {
   "codemirror_mode": {
    "name": "ipython",
    "version": 3
   },
   "file_extension": ".py",
   "mimetype": "text/x-python",
   "name": "python",
   "nbconvert_exporter": "python",
   "pygments_lexer": "ipython3",
   "version": "3.6.6"
  }
 },
 "nbformat": 4,
 "nbformat_minor": 2
}
