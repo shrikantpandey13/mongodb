{
 "cells": [
  {
   "cell_type": "code",
   "execution_count": 1,
   "metadata": {
    "ExecuteTime": {
     "end_time": "2020-06-03T11:57:36.886777Z",
     "start_time": "2020-06-03T11:57:34.708504Z"
    }
   },
   "outputs": [],
   "source": [
    "import pymongo\n",
    "from pymongo import MongoClient\n",
    "import pandas as pd\n",
    "import json"
   ]
  },
  {
   "cell_type": "code",
   "execution_count": 9,
   "metadata": {
    "ExecuteTime": {
     "end_time": "2020-06-03T12:49:26.363136Z",
     "start_time": "2020-06-03T12:49:19.888066Z"
    }
   },
   "outputs": [
    {
     "name": "stdout",
     "output_type": "stream",
     "text": [
      "All the Data has been Exported to Mongo DB Server .... \n"
     ]
    }
   ],
   "source": [
    "try:\n",
    "    import pymongo\n",
    "    from pymongo import MongoClient\n",
    "    import pandas as pd\n",
    "    import json\n",
    "except Exception as e:\n",
    "    print(\"Some Modules are Missing \")\n",
    "\n",
    "\n",
    "class MongoDB(object):\n",
    "\n",
    "    def __init__(self, dBName=None, collectionName=None):\n",
    "\n",
    "        self.dBName = dBName\n",
    "        self.collectionName = collectionName\n",
    "\n",
    "        self.client = MongoClient(\"localhost\", 27017, maxPoolSize=50)\n",
    "\n",
    "        self.DB = self.client[self.dBName]\n",
    "        self.collection = self.DB[self.collectionName]\n",
    "\n",
    "\n",
    "\n",
    "    def InsertData(self, path=None):\n",
    "        \"\"\"\n",
    "\n",
    "        :param path: Path os csv File\n",
    "        :return: None\n",
    "        \"\"\"\n",
    "\n",
    "        df = pd.read_csv(path)\n",
    "        data = df.to_dict('records')\n",
    "\n",
    "        self.collection.insert_many(data, ordered=False)\n",
    "        print(\"All the Data has been Exported to Mongo DB Server .... \")\n",
    "\n",
    "if __name__ == \"__main__\":\n",
    "    mongodb = MongoDB(dBName = 'Dataset', collectionName='EnergyConsumption')\n",
    "    mongodb.InsertData(path=\"Dataset/AEP_hourly.csv\")\n",
    "\n",
    "\n",
    "\n",
    "\n",
    "\n"
   ]
  },
  {
   "cell_type": "code",
   "execution_count": null,
   "metadata": {},
   "outputs": [],
   "source": []
  }
 ],
 "metadata": {
  "kernelspec": {
   "display_name": "Python 3",
   "language": "python",
   "name": "python3"
  },
  "language_info": {
   "codemirror_mode": {
    "name": "ipython",
    "version": 3
   },
   "file_extension": ".py",
   "mimetype": "text/x-python",
   "name": "python",
   "nbconvert_exporter": "python",
   "pygments_lexer": "ipython3",
   "version": "3.6.6"
  }
 },
 "nbformat": 4,
 "nbformat_minor": 2
}
