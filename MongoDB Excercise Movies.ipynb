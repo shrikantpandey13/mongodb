{
 "cells": [
  {
   "cell_type": "markdown",
   "metadata": {},
   "source": [
    "## MongoDB Excercise Movies"
   ]
  },
  {
   "cell_type": "code",
   "execution_count": 21,
   "metadata": {
    "ExecuteTime": {
     "end_time": "2020-06-05T10:27:20.879373Z",
     "start_time": "2020-06-05T10:27:20.875384Z"
    }
   },
   "outputs": [],
   "source": [
    "from pymongo import MongoClient\n",
    "from pprint import pprint\n"
   ]
  },
  {
   "cell_type": "code",
   "execution_count": 7,
   "metadata": {
    "ExecuteTime": {
     "end_time": "2020-06-05T10:02:08.498250Z",
     "start_time": "2020-06-05T10:02:08.481295Z"
    }
   },
   "outputs": [],
   "source": [
    "client = MongoClient(\"localhost:27017\")\n"
   ]
  },
  {
   "cell_type": "markdown",
   "metadata": {},
   "source": [
    "**Remember:** In MongoDB, a database is not created until it gets content, so if this is your first time creating a database, you should complete the next two chapters (create collection and create document) before you check if the database exists!"
   ]
  },
  {
   "cell_type": "code",
   "execution_count": 8,
   "metadata": {
    "ExecuteTime": {
     "end_time": "2020-06-05T10:02:09.159281Z",
     "start_time": "2020-06-05T10:02:09.129361Z"
    }
   },
   "outputs": [],
   "source": [
    "movies_db = client[\"excercise\"]\n",
    "movie_coll = movies_db[\"movies\"]\n",
    "\n",
    "#documents\n",
    "info=[{\"title\" : \"Fight Club\",\n",
    "\"writer\" : \"Chuck Palahniuk\",\n",
    "\"year\" : 1999,\n",
    "\"actors\" : [\n",
    "  \"Brad Pitt\",\n",
    "  \"Edward Norton\"\n",
    "]},\n",
    "{\"title\" : \"Pulp Fiction\",\n",
    "\"writer\" : \"Quentin Tarantino\",\n",
    "\"year\" : 1994,\n",
    "\"actors\" : [\n",
    "  \"John Travolta\",\n",
    "  \"Uma Thurman\"\n",
    "]},\n",
    "\n",
    "{\"title\" : \"Inglorious Basterds\",\n",
    "\"writer\" : \"Quentin Tarantino\",\n",
    "\"year\" : 2009,\n",
    "\"actors\" : [\n",
    "  \"Brad Pitt\",\n",
    "  \"Diane Kruger\",\n",
    "  \"Eli Roth\"\n",
    "]},\n",
    "{\"title\" : \"The Hobbit: The Desolation of Smaug\",\n",
    "\"writer\" : \"J.R.R. Tolkein\",\n",
    "\"year\" : 2013,\n",
    "\"franchise\" : \"The Hobbit\"\n",
    "},\n",
    "{\"title\" : \"The Hobbit: An Unexpected Journey\",\n",
    "\"writer\" : \"J.R.R. Tolkein\",\n",
    "\"year\" : 2012,\n",
    "\"franchise\" : \"The Hobbit\"\n",
    " },\n",
    "{\"title\" : \"The Hobbit: The Battle of the Five Armies\",\n",
    "\"writer\": \"J.R.R. Tolkein\",\n",
    "\"year\" : 2012,\n",
    "\"franchise\" : \"The Hobbit\",\n",
    "\"synopsis\" : \"Bilbo and Company are forced to engage in a war against an array of combatants and keep the Lonely Mountain from falling into the hands of a rising darkness.\"\n",
    "},\n",
    "{\n",
    "\"title\" : \"Pee Wee Herman's Big Adventure\"\n",
    "},\n",
    "{\n",
    "\"title\" : \"Avatar\"\n",
    "}\n",
    "]\n",
    "\n"
   ]
  },
  {
   "cell_type": "code",
   "execution_count": 9,
   "metadata": {
    "ExecuteTime": {
     "end_time": "2020-06-05T10:02:40.655136Z",
     "start_time": "2020-06-05T10:02:40.448438Z"
    }
   },
   "outputs": [
    {
     "data": {
      "text/plain": [
       "<pymongo.results.InsertManyResult at 0x1d98f256448>"
      ]
     },
     "execution_count": 9,
     "metadata": {},
     "output_type": "execute_result"
    }
   ],
   "source": [
    "movie_coll.insert_many(info)"
   ]
  },
  {
   "cell_type": "code",
   "execution_count": 10,
   "metadata": {
    "ExecuteTime": {
     "end_time": "2020-06-05T10:04:28.460238Z",
     "start_time": "2020-06-05T10:04:28.335572Z"
    }
   },
   "outputs": [
    {
     "name": "stdout",
     "output_type": "stream",
     "text": [
      "{'_id': ObjectId('5eda18404c3903f8eff6a5a7'), 'title': 'Fight Club', 'writer': 'Chuck Palahniuk', 'year': 1999, 'actors': ['Brad Pitt', 'Edward Norton']}\n",
      "{'_id': ObjectId('5eda18404c3903f8eff6a5a8'), 'title': 'Pulp Fiction', 'writer': 'Quentin Tarantino', 'year': 1994, 'actors': ['John Travolta', 'Uma Thurman']}\n",
      "{'_id': ObjectId('5eda18404c3903f8eff6a5a9'), 'title': 'Inglorious Basterds', 'writer': 'Quentin Tarantino', 'year': 2009, 'actors': ['Brad Pitt', 'Diane Kruger', 'Eli Roth']}\n",
      "{'_id': ObjectId('5eda18404c3903f8eff6a5aa'), 'title': 'The Hobbit: The Desolation of Smaug', 'writer': 'J.R.R. Tolkein', 'year': 2013, 'franchise': 'The Hobbit'}\n",
      "{'_id': ObjectId('5eda18404c3903f8eff6a5ab'), 'title': 'The Hobbit: An Unexpected Journey', 'writer': 'J.R.R. Tolkein', 'year': 2012, 'franchise': 'The Hobbit'}\n",
      "{'_id': ObjectId('5eda18404c3903f8eff6a5ac'), 'title': 'The Hobbit: The Battle of the Five Armies', 'writer': 'J.R.R. Tolkein', 'year': 2012, 'franchise': 'The Hobbit', 'synopsis': 'Bilbo and Company are forced to engage in a war against an array of combatants and keep the Lonely Mountain from falling into the hands of a rising darkness.'}\n",
      "{'_id': ObjectId('5eda18404c3903f8eff6a5ad'), 'title': \"Pee Wee Herman's Big Adventure\"}\n",
      "{'_id': ObjectId('5eda18404c3903f8eff6a5ae'), 'title': 'Avatar'}\n"
     ]
    }
   ],
   "source": [
    "#getting all documents\n",
    "for movie in movie_coll.find():\n",
    "    print(movie)"
   ]
  },
  {
   "cell_type": "code",
   "execution_count": 12,
   "metadata": {
    "ExecuteTime": {
     "end_time": "2020-06-05T10:06:03.687510Z",
     "start_time": "2020-06-05T10:06:03.673017Z"
    }
   },
   "outputs": [
    {
     "name": "stdout",
     "output_type": "stream",
     "text": [
      "{'_id': ObjectId('5eda18404c3903f8eff6a5a8'), 'title': 'Pulp Fiction', 'writer': 'Quentin Tarantino', 'year': 1994, 'actors': ['John Travolta', 'Uma Thurman']}\n",
      "{'_id': ObjectId('5eda18404c3903f8eff6a5a9'), 'title': 'Inglorious Basterds', 'writer': 'Quentin Tarantino', 'year': 2009, 'actors': ['Brad Pitt', 'Diane Kruger', 'Eli Roth']}\n"
     ]
    }
   ],
   "source": [
    "#get all documents with writer set to \"Quentin Tarantino\"\n",
    "for movie in movie_coll.find({\"writer\": \"Quentin Tarantino\"}):\n",
    "    print(movie)"
   ]
  },
  {
   "cell_type": "code",
   "execution_count": 13,
   "metadata": {
    "ExecuteTime": {
     "end_time": "2020-06-05T10:07:22.827447Z",
     "start_time": "2020-06-05T10:07:22.822445Z"
    }
   },
   "outputs": [
    {
     "name": "stdout",
     "output_type": "stream",
     "text": [
      "{'_id': ObjectId('5eda18404c3903f8eff6a5a7'), 'title': 'Fight Club', 'writer': 'Chuck Palahniuk', 'year': 1999, 'actors': ['Brad Pitt', 'Edward Norton']}\n",
      "{'_id': ObjectId('5eda18404c3903f8eff6a5a9'), 'title': 'Inglorious Basterds', 'writer': 'Quentin Tarantino', 'year': 2009, 'actors': ['Brad Pitt', 'Diane Kruger', 'Eli Roth']}\n"
     ]
    }
   ],
   "source": [
    "#get all documents where actors include \"Brad Pitt\"\n",
    "for movie in movie_coll.find({\"actors\":\"Brad Pitt\"}):\n",
    "    print(movie)"
   ]
  },
  {
   "cell_type": "code",
   "execution_count": 14,
   "metadata": {
    "ExecuteTime": {
     "end_time": "2020-06-05T10:08:49.717993Z",
     "start_time": "2020-06-05T10:08:49.711493Z"
    }
   },
   "outputs": [
    {
     "name": "stdout",
     "output_type": "stream",
     "text": [
      "{'_id': ObjectId('5eda18404c3903f8eff6a5aa'), 'title': 'The Hobbit: The Desolation of Smaug', 'writer': 'J.R.R. Tolkein', 'year': 2013, 'franchise': 'The Hobbit'}\n",
      "{'_id': ObjectId('5eda18404c3903f8eff6a5ab'), 'title': 'The Hobbit: An Unexpected Journey', 'writer': 'J.R.R. Tolkein', 'year': 2012, 'franchise': 'The Hobbit'}\n",
      "{'_id': ObjectId('5eda18404c3903f8eff6a5ac'), 'title': 'The Hobbit: The Battle of the Five Armies', 'writer': 'J.R.R. Tolkein', 'year': 2012, 'franchise': 'The Hobbit', 'synopsis': 'Bilbo and Company are forced to engage in a war against an array of combatants and keep the Lonely Mountain from falling into the hands of a rising darkness.'}\n"
     ]
    }
   ],
   "source": [
    "#get all documents with franchise set to \"The Hobbit\"\n",
    "for movie in movie_coll.find({\"franchise\": \"The Hobbit\"}):\n",
    "    print(movie)"
   ]
  },
  {
   "cell_type": "code",
   "execution_count": 16,
   "metadata": {
    "ExecuteTime": {
     "end_time": "2020-06-05T10:10:29.575594Z",
     "start_time": "2020-06-05T10:10:29.570582Z"
    }
   },
   "outputs": [
    {
     "name": "stdout",
     "output_type": "stream",
     "text": [
      "{'_id': ObjectId('5eda18404c3903f8eff6a5a7'), 'title': 'Fight Club', 'writer': 'Chuck Palahniuk', 'year': 1999, 'actors': ['Brad Pitt', 'Edward Norton']}\n",
      "{'_id': ObjectId('5eda18404c3903f8eff6a5a8'), 'title': 'Pulp Fiction', 'writer': 'Quentin Tarantino', 'year': 1994, 'actors': ['John Travolta', 'Uma Thurman']}\n"
     ]
    }
   ],
   "source": [
    "#get all movies released in the 2000s\n",
    "for movie  in movie_coll.find({\"year\":{\"$lt\": 2000}}):\n",
    "    print(movie)"
   ]
  },
  {
   "cell_type": "code",
   "execution_count": 22,
   "metadata": {
    "ExecuteTime": {
     "end_time": "2020-06-05T10:27:26.121847Z",
     "start_time": "2020-06-05T10:27:26.108882Z"
    }
   },
   "outputs": [
    {
     "name": "stdout",
     "output_type": "stream",
     "text": [
      "{'_id': ObjectId('5eda18404c3903f8eff6a5a7'),\n",
      " 'actors': ['Brad Pitt', 'Edward Norton'],\n",
      " 'title': 'Fight Club',\n",
      " 'writer': 'Chuck Palahniuk',\n",
      " 'year': 1999}\n",
      "{'_id': ObjectId('5eda18404c3903f8eff6a5a8'),\n",
      " 'actors': ['John Travolta', 'Uma Thurman'],\n",
      " 'title': 'Pulp Fiction',\n",
      " 'writer': 'Quentin Tarantino',\n",
      " 'year': 1994}\n",
      "{'_id': ObjectId('5eda18404c3903f8eff6a5aa'),\n",
      " 'franchise': 'The Hobbit',\n",
      " 'title': 'The Hobbit: The Desolation of Smaug',\n",
      " 'writer': 'J.R.R. Tolkein',\n",
      " 'year': 2013}\n",
      "{'_id': ObjectId('5eda18404c3903f8eff6a5ab'),\n",
      " 'franchise': 'The Hobbit',\n",
      " 'title': 'The Hobbit: An Unexpected Journey',\n",
      " 'writer': 'J.R.R. Tolkein',\n",
      " 'year': 2012}\n",
      "{'_id': ObjectId('5eda18404c3903f8eff6a5ac'),\n",
      " 'franchise': 'The Hobbit',\n",
      " 'synopsis': 'Bilbo and Company are forced to engage in a war against an array '\n",
      "             'of combatants and keep the Lonely Mountain from falling into the '\n",
      "             'hands of a rising darkness.',\n",
      " 'title': 'The Hobbit: The Battle of the Five Armies',\n",
      " 'writer': 'J.R.R. Tolkein',\n",
      " 'year': 2012}\n"
     ]
    }
   ],
   "source": [
    "#get all movies released before the year 2000 or after 2010\n",
    "for movie in movie_coll.find({\"$or\":[{\"year\":{\"$lt\":2000}},{\"year\":{\"$gt\":2010}}]}):\n",
    "    pprint(movie)"
   ]
  },
  {
   "cell_type": "code",
   "execution_count": 23,
   "metadata": {
    "ExecuteTime": {
     "end_time": "2020-06-05T10:30:42.120439Z",
     "start_time": "2020-06-05T10:30:42.101673Z"
    }
   },
   "outputs": [
    {
     "data": {
      "text/plain": [
       "<pymongo.results.UpdateResult at 0x1d98f213e08>"
      ]
     },
     "execution_count": 23,
     "metadata": {},
     "output_type": "execute_result"
    }
   ],
   "source": [
    "#add a synopsis to \"The Hobbit: An Unexpected Journey\" : \"A reluctant hobbit, Bilbo Baggins,\n",
    "# sets out to the Lonely Mountain with a spirited group of dwarves to reclaim their mountain home -\n",
    "# and the gold within it - from the dragon Smaug.\"\n",
    "\n",
    "movie_coll.update_one({\"title\":\"The Hobbit: An Unexpected Journey\"},{\"$set\":{\"synopsis\":\"A reluctant hobbit, Bilbo Baggins,\\\n",
    " sets out to the Lonely Mountain with a spirited group of \\\n",
    "dwarves to reclaim their mountain home - and the gold within it - from the dragon Smaug.\"}})\n"
   ]
  },
  {
   "cell_type": "code",
   "execution_count": 24,
   "metadata": {
    "ExecuteTime": {
     "end_time": "2020-06-05T10:31:50.425849Z",
     "start_time": "2020-06-05T10:31:50.410897Z"
    }
   },
   "outputs": [
    {
     "data": {
      "text/plain": [
       "<pymongo.results.UpdateResult at 0x1d98f2cbe48>"
      ]
     },
     "execution_count": 24,
     "metadata": {},
     "output_type": "execute_result"
    }
   ],
   "source": [
    "#add a synopsis to \"The Hobbit: The Desolation of Smaug\" : \"The dwarves, along with Bilbo Baggins and\n",
    "# Gandalf the Grey, continue their quest to reclaim Erebor, their homeland, from Smaug. Bilbo Baggins\n",
    "#  is in possession of a mysterious and magical ring.\"\n",
    "\n",
    "movie_coll.update_one({\"title\":\"The Hobbit: The Desolation of Smaug\"},{\"$set\":{\"synopsis\":\"The dwarves, along with\\\n",
    " Bilbo Baggins and Gandalf the Grey, continue their quest to reclaim Erebor, their homeland, from Smaug.\\\n",
    "  Bilbo Baggins is in possession of a mysterious and magical ring.\"\n",
    "}})"
   ]
  },
  {
   "cell_type": "code",
   "execution_count": 25,
   "metadata": {
    "ExecuteTime": {
     "end_time": "2020-06-05T10:32:26.394792Z",
     "start_time": "2020-06-05T10:32:26.387810Z"
    }
   },
   "outputs": [
    {
     "data": {
      "text/plain": [
       "<pymongo.results.UpdateResult at 0x1d98f2fa748>"
      ]
     },
     "execution_count": 25,
     "metadata": {},
     "output_type": "execute_result"
    }
   ],
   "source": [
    "#add an actor named \"Samuel L. Jackson\" to the movie \"Pulp Fiction\"\n",
    "movie_coll.update_one({\"title\":\"Pulp Fiction\"},{\"$addToSet\":{\"actors\":\"Samuel L. Jackson\"}})"
   ]
  },
  {
   "cell_type": "code",
   "execution_count": 26,
   "metadata": {
    "ExecuteTime": {
     "end_time": "2020-06-05T11:28:06.850699Z",
     "start_time": "2020-06-05T11:28:05.688216Z"
    }
   },
   "outputs": [
    {
     "name": "stdout",
     "output_type": "stream",
     "text": [
      "{'_id': ObjectId('5eda18404c3903f8eff6a5aa'),\n",
      " 'franchise': 'The Hobbit',\n",
      " 'synopsis': 'The dwarves, along with Bilbo Baggins and Gandalf the Grey, '\n",
      "             'continue their quest to reclaim Erebor, their homeland, from '\n",
      "             'Smaug.  Bilbo Baggins is in possession of a mysterious and '\n",
      "             'magical ring.',\n",
      " 'title': 'The Hobbit: The Desolation of Smaug',\n",
      " 'writer': 'J.R.R. Tolkein',\n",
      " 'year': 2013}\n",
      "{'_id': ObjectId('5eda18404c3903f8eff6a5ac'),\n",
      " 'franchise': 'The Hobbit',\n",
      " 'synopsis': 'Bilbo and Company are forced to engage in a war against an array '\n",
      "             'of combatants and keep the Lonely Mountain from falling into the '\n",
      "             'hands of a rising darkness.',\n",
      " 'title': 'The Hobbit: The Battle of the Five Armies',\n",
      " 'writer': 'J.R.R. Tolkein',\n",
      " 'year': 2012}\n",
      "{'_id': ObjectId('5eda18404c3903f8eff6a5ab'),\n",
      " 'franchise': 'The Hobbit',\n",
      " 'synopsis': 'A reluctant hobbit, Bilbo Baggins, sets out to the Lonely '\n",
      "             'Mountain with a spirited group of dwarves to reclaim their '\n",
      "             'mountain home - and the gold within it - from the dragon Smaug.',\n",
      " 'title': 'The Hobbit: An Unexpected Journey',\n",
      " 'writer': 'J.R.R. Tolkein',\n",
      " 'year': 2012}\n"
     ]
    }
   ],
   "source": [
    "#find all movies that have a synopsis that contains the word \"Bilbo\"\n",
    "movie_coll.create_index([('synopsis','text')])\n",
    "for movie in movie_coll.find({\"$text\":{\"$search\":\"Bilbo\"}}):\n",
    "    pprint(movie)"
   ]
  },
  {
   "cell_type": "code",
   "execution_count": 27,
   "metadata": {
    "ExecuteTime": {
     "end_time": "2020-06-05T11:29:08.738750Z",
     "start_time": "2020-06-05T11:29:08.717806Z"
    }
   },
   "outputs": [
    {
     "name": "stdout",
     "output_type": "stream",
     "text": [
      "{'_id': ObjectId('5eda18404c3903f8eff6a5aa'),\n",
      " 'franchise': 'The Hobbit',\n",
      " 'synopsis': 'The dwarves, along with Bilbo Baggins and Gandalf the Grey, '\n",
      "             'continue their quest to reclaim Erebor, their homeland, from '\n",
      "             'Smaug.  Bilbo Baggins is in possession of a mysterious and '\n",
      "             'magical ring.',\n",
      " 'title': 'The Hobbit: The Desolation of Smaug',\n",
      " 'writer': 'J.R.R. Tolkein',\n",
      " 'year': 2013}\n"
     ]
    }
   ],
   "source": [
    "#find all movies that have a synopsis that contains the word \"Gandalf\"\n",
    "for movie in movie_coll.find({\"$text\":{\"$search\":\"Gandalf\"}}):\n",
    "    pprint(movie)"
   ]
  },
  {
   "cell_type": "code",
   "execution_count": 32,
   "metadata": {
    "ExecuteTime": {
     "end_time": "2020-06-05T11:33:09.152468Z",
     "start_time": "2020-06-05T11:33:09.142404Z"
    }
   },
   "outputs": [
    {
     "name": "stdout",
     "output_type": "stream",
     "text": [
      "{'_id': ObjectId('5eda18404c3903f8eff6a5aa'),\n",
      " 'franchise': 'The Hobbit',\n",
      " 'synopsis': 'The dwarves, along with Bilbo Baggins and Gandalf the Grey, '\n",
      "             'continue their quest to reclaim Erebor, their homeland, from '\n",
      "             'Smaug.  Bilbo Baggins is in possession of a mysterious and '\n",
      "             'magical ring.',\n",
      " 'title': 'The Hobbit: The Desolation of Smaug',\n",
      " 'writer': 'J.R.R. Tolkein',\n",
      " 'year': 2013}\n"
     ]
    }
   ],
   "source": [
    "#find all movies that have a synopsis that contains the phrase \"Gandalf the Grey\" exactly\n",
    "#Wrap exact quotes around double quotes\n",
    "for movie in movie_coll.find({\"$text\":{\"$search\":\"\\\"Gandalf The Grey\\\"\"}}):\n",
    "    pprint(movie)"
   ]
  },
  {
   "cell_type": "code",
   "execution_count": 31,
   "metadata": {
    "ExecuteTime": {
     "end_time": "2020-06-05T11:32:39.850899Z",
     "start_time": "2020-06-05T11:32:39.836346Z"
    }
   },
   "outputs": [
    {
     "name": "stdout",
     "output_type": "stream",
     "text": [
      "{'_id': ObjectId('5eda18404c3903f8eff6a5ac'),\n",
      " 'franchise': 'The Hobbit',\n",
      " 'synopsis': 'Bilbo and Company are forced to engage in a war against an array '\n",
      "             'of combatants and keep the Lonely Mountain from falling into the '\n",
      "             'hands of a rising darkness.',\n",
      " 'title': 'The Hobbit: The Battle of the Five Armies',\n",
      " 'writer': 'J.R.R. Tolkein',\n",
      " 'year': 2012}\n",
      "{'_id': ObjectId('5eda18404c3903f8eff6a5ab'),\n",
      " 'franchise': 'The Hobbit',\n",
      " 'synopsis': 'A reluctant hobbit, Bilbo Baggins, sets out to the Lonely '\n",
      "             'Mountain with a spirited group of dwarves to reclaim their '\n",
      "             'mountain home - and the gold within it - from the dragon Smaug.',\n",
      " 'title': 'The Hobbit: An Unexpected Journey',\n",
      " 'writer': 'J.R.R. Tolkein',\n",
      " 'year': 2012}\n"
     ]
    }
   ],
   "source": [
    "#find all movies that have a synopsis that contains the word \"Bilbo\" and not the word \"Gandalf\"\n",
    "#precede word to be ommited by hyphen\n",
    "for movie in movie_coll.find({\"$text\":{\"$search\":\"Bilbo -Gandalf\"}}):\n",
    "    pprint(movie)"
   ]
  },
  {
   "cell_type": "code",
   "execution_count": 33,
   "metadata": {
    "ExecuteTime": {
     "end_time": "2020-06-05T11:33:35.172885Z",
     "start_time": "2020-06-05T11:33:35.165904Z"
    }
   },
   "outputs": [
    {
     "name": "stdout",
     "output_type": "stream",
     "text": [
      "{'_id': ObjectId('5eda18404c3903f8eff6a5ab'),\n",
      " 'franchise': 'The Hobbit',\n",
      " 'synopsis': 'A reluctant hobbit, Bilbo Baggins, sets out to the Lonely '\n",
      "             'Mountain with a spirited group of dwarves to reclaim their '\n",
      "             'mountain home - and the gold within it - from the dragon Smaug.',\n",
      " 'title': 'The Hobbit: An Unexpected Journey',\n",
      " 'writer': 'J.R.R. Tolkein',\n",
      " 'year': 2012}\n",
      "{'_id': ObjectId('5eda18404c3903f8eff6a5aa'),\n",
      " 'franchise': 'The Hobbit',\n",
      " 'synopsis': 'The dwarves, along with Bilbo Baggins and Gandalf the Grey, '\n",
      "             'continue their quest to reclaim Erebor, their homeland, from '\n",
      "             'Smaug.  Bilbo Baggins is in possession of a mysterious and '\n",
      "             'magical ring.',\n",
      " 'title': 'The Hobbit: The Desolation of Smaug',\n",
      " 'writer': 'J.R.R. Tolkein',\n",
      " 'year': 2013}\n"
     ]
    }
   ],
   "source": [
    "#find all movies that have a synopsis that contains the word \"dwarves\" or \"hobbit\"\n",
    "for movie in movie_coll.find({\"$text\":{\"$search\":\"dwarves hobbit\"}}):\n",
    "    pprint(movie)"
   ]
  },
  {
   "cell_type": "code",
   "execution_count": 34,
   "metadata": {
    "ExecuteTime": {
     "end_time": "2020-06-05T11:34:34.580687Z",
     "start_time": "2020-06-05T11:34:34.570710Z"
    }
   },
   "outputs": [
    {
     "name": "stdout",
     "output_type": "stream",
     "text": [
      "{'_id': ObjectId('5eda18404c3903f8eff6a5ab'),\n",
      " 'franchise': 'The Hobbit',\n",
      " 'synopsis': 'A reluctant hobbit, Bilbo Baggins, sets out to the Lonely '\n",
      "             'Mountain with a spirited group of dwarves to reclaim their '\n",
      "             'mountain home - and the gold within it - from the dragon Smaug.',\n",
      " 'title': 'The Hobbit: An Unexpected Journey',\n",
      " 'writer': 'J.R.R. Tolkein',\n",
      " 'year': 2012}\n"
     ]
    }
   ],
   "source": [
    "#find all movies that have a synopsis that contains the word \"gold\" and \"dragon\"\n",
    "for movie in movie_coll.find({\"$text\":{\"$search\":\"\\\"gold\\\" \\\"dragon\\\"\"}}):\n",
    "    pprint(movie)"
   ]
  },
  {
   "cell_type": "code",
   "execution_count": 35,
   "metadata": {
    "ExecuteTime": {
     "end_time": "2020-06-05T11:34:54.754108Z",
     "start_time": "2020-06-05T11:34:54.585209Z"
    }
   },
   "outputs": [
    {
     "data": {
      "text/plain": [
       "<pymongo.results.DeleteResult at 0x1d98f396208>"
      ]
     },
     "execution_count": 35,
     "metadata": {},
     "output_type": "execute_result"
    }
   ],
   "source": [
    "#delete the movie \"Pee Wee Herman's Big Adventure\"\n",
    "movie_coll.delete_one({\"title\":\"Pee Wee Herman's Big Adventure\"})"
   ]
  },
  {
   "cell_type": "code",
   "execution_count": 36,
   "metadata": {
    "ExecuteTime": {
     "end_time": "2020-06-05T11:35:15.037099Z",
     "start_time": "2020-06-05T11:35:15.030116Z"
    }
   },
   "outputs": [
    {
     "data": {
      "text/plain": [
       "<pymongo.results.DeleteResult at 0x1d98f2cbe08>"
      ]
     },
     "execution_count": 36,
     "metadata": {},
     "output_type": "execute_result"
    }
   ],
   "source": [
    "#delete the movie \"Avatar\"\n",
    "movie_coll.delete_one({\"title\":\"Avatar\"})"
   ]
  },
  {
   "cell_type": "code",
   "execution_count": null,
   "metadata": {
    "ExecuteTime": {
     "end_time": "2020-06-05T11:36:33.900166Z",
     "start_time": "2020-06-05T11:36:33.727464Z"
    }
   },
   "outputs": [],
   "source": []
  },
  {
   "cell_type": "code",
   "execution_count": null,
   "metadata": {},
   "outputs": [],
   "source": []
  }
 ],
 "metadata": {
  "kernelspec": {
   "display_name": "Python 3",
   "language": "python",
   "name": "python3"
  },
  "language_info": {
   "codemirror_mode": {
    "name": "ipython",
    "version": 3
   },
   "file_extension": ".py",
   "mimetype": "text/x-python",
   "name": "python",
   "nbconvert_exporter": "python",
   "pygments_lexer": "ipython3",
   "version": "3.6.6"
  }
 },
 "nbformat": 4,
 "nbformat_minor": 2
}
