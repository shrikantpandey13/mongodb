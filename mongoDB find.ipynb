{
 "cells": [
  {
   "cell_type": "code",
   "execution_count": 1,
   "metadata": {
    "ExecuteTime": {
     "end_time": "2020-06-04T05:01:43.183181Z",
     "start_time": "2020-06-04T05:01:42.944905Z"
    }
   },
   "outputs": [],
   "source": [
    "import sys\n",
    "import pymongo\n",
    "from pymongo import MongoClient\n",
    "from pymongo.errors import ConnectionFailure"
   ]
  },
  {
   "cell_type": "code",
   "execution_count": 2,
   "metadata": {
    "ExecuteTime": {
     "end_time": "2020-06-04T05:02:41.547266Z",
     "start_time": "2020-06-04T05:02:41.533116Z"
    }
   },
   "outputs": [],
   "source": [
    "myclient = pymongo.MongoClient(\"mongodb://localhost:27017/\")\n",
    "mydb = myclient[\"mydatabase\"]\n",
    "mycol = mydb[\"customers\"]"
   ]
  },
  {
   "cell_type": "code",
   "execution_count": 3,
   "metadata": {
    "ExecuteTime": {
     "end_time": "2020-06-04T05:03:04.090904Z",
     "start_time": "2020-06-04T05:03:04.075066Z"
    }
   },
   "outputs": [
    {
     "name": "stdout",
     "output_type": "stream",
     "text": [
      "{'_id': ObjectId('5ed7862a5c9af333d89aace7'), 'name': 'John', 'address': 'Highway 37'}\n"
     ]
    }
   ],
   "source": [
    "# The find_one() method returns the first occurrence in the selection.\n",
    "x = mycol.find_one()\n",
    "print(x) "
   ]
  },
  {
   "cell_type": "code",
   "execution_count": 6,
   "metadata": {
    "ExecuteTime": {
     "end_time": "2020-06-04T06:07:04.081924Z",
     "start_time": "2020-06-04T06:07:04.070860Z"
    }
   },
   "outputs": [
    {
     "name": "stdout",
     "output_type": "stream",
     "text": [
      "{'_id': ObjectId('5ed7862a5c9af333d89aace7'), 'name': 'John', 'address': 'Highway 37'}\n",
      "{'_id': ObjectId('5ed786e75c9af333d89aace9'), 'name': 'Peter', 'address': 'Lowstreet 27'}\n",
      "{'_id': ObjectId('5ed787685c9af333d89aacec'), 'name': 'Amy', 'address': 'Apple st 652'}\n",
      "{'_id': ObjectId('5ed787685c9af333d89aaced'), 'name': 'Hannah', 'address': 'Mountain 21'}\n",
      "{'_id': ObjectId('5ed787685c9af333d89aacee'), 'name': 'Michael', 'address': 'Valley 345'}\n",
      "{'_id': ObjectId('5ed787685c9af333d89aacef'), 'name': 'Sandy', 'address': 'Ocean blvd 2'}\n",
      "{'_id': ObjectId('5ed787685c9af333d89aacf0'), 'name': 'Betty', 'address': 'Green Grass 1'}\n",
      "{'_id': ObjectId('5ed787685c9af333d89aacf1'), 'name': 'Richard', 'address': 'Sky st 331'}\n",
      "{'_id': ObjectId('5ed787685c9af333d89aacf2'), 'name': 'Susan', 'address': 'One way 98'}\n",
      "{'_id': ObjectId('5ed787685c9af333d89aacf3'), 'name': 'Vicky', 'address': 'Yellow Garden 2'}\n",
      "{'_id': ObjectId('5ed787685c9af333d89aacf4'), 'name': 'Ben', 'address': 'Park Lane 38'}\n",
      "{'_id': ObjectId('5ed787685c9af333d89aacf5'), 'name': 'William', 'address': 'Central st 954'}\n",
      "{'_id': ObjectId('5ed787685c9af333d89aacf6'), 'name': 'Chuck', 'address': 'Main Road 989'}\n",
      "{'_id': ObjectId('5ed787685c9af333d89aacf7'), 'name': 'Viola', 'address': 'Sideway 1633'}\n",
      "{'_id': ObjectId('5ed787e55c9af333d89aacfb'), 'name': 'Amy', 'address': 'Apple st 652'}\n",
      "{'_id': ObjectId('5ed787e55c9af333d89aacfc'), 'name': 'Hannah', 'address': 'Mountain 21'}\n",
      "{'_id': ObjectId('5ed787e55c9af333d89aacfd'), 'name': 'Michael', 'address': 'Valley 345'}\n",
      "{'_id': ObjectId('5ed787e55c9af333d89aacfe'), 'name': 'Sandy', 'address': 'Ocean blvd 2'}\n",
      "{'_id': ObjectId('5ed787e55c9af333d89aacff'), 'name': 'Betty', 'address': 'Green Grass 1'}\n",
      "{'_id': ObjectId('5ed787e55c9af333d89aad00'), 'name': 'Richard', 'address': 'Sky st 331'}\n",
      "{'_id': ObjectId('5ed787e55c9af333d89aad01'), 'name': 'Susan', 'address': 'One way 98'}\n",
      "{'_id': ObjectId('5ed787e55c9af333d89aad02'), 'name': 'Vicky', 'address': 'Yellow Garden 2'}\n",
      "{'_id': ObjectId('5ed787e55c9af333d89aad03'), 'name': 'Ben', 'address': 'Park Lane 38'}\n",
      "{'_id': ObjectId('5ed787e55c9af333d89aad04'), 'name': 'William', 'address': 'Central st 954'}\n",
      "{'_id': ObjectId('5ed787e55c9af333d89aad05'), 'name': 'Chuck', 'address': 'Main Road 989'}\n",
      "{'_id': ObjectId('5ed787e55c9af333d89aad06'), 'name': 'Viola', 'address': 'Sideway 1633'}\n"
     ]
    }
   ],
   "source": [
    "# The find() method returns all occurrences in the selection.\n",
    "for x in mycol.find():\n",
    "    print(x)"
   ]
  },
  {
   "cell_type": "markdown",
   "metadata": {},
   "source": [
    "### Return Only Some Fields"
   ]
  },
  {
   "cell_type": "code",
   "execution_count": 8,
   "metadata": {
    "ExecuteTime": {
     "end_time": "2020-06-04T06:10:30.976503Z",
     "start_time": "2020-06-04T06:10:30.970459Z"
    }
   },
   "outputs": [
    {
     "name": "stdout",
     "output_type": "stream",
     "text": [
      "{'name': 'John', 'address': 'Highway 37'}\n",
      "{'name': 'Peter', 'address': 'Lowstreet 27'}\n",
      "{'name': 'Amy', 'address': 'Apple st 652'}\n",
      "{'name': 'Hannah', 'address': 'Mountain 21'}\n",
      "{'name': 'Michael', 'address': 'Valley 345'}\n",
      "{'name': 'Sandy', 'address': 'Ocean blvd 2'}\n",
      "{'name': 'Betty', 'address': 'Green Grass 1'}\n",
      "{'name': 'Richard', 'address': 'Sky st 331'}\n",
      "{'name': 'Susan', 'address': 'One way 98'}\n",
      "{'name': 'Vicky', 'address': 'Yellow Garden 2'}\n",
      "{'name': 'Ben', 'address': 'Park Lane 38'}\n",
      "{'name': 'William', 'address': 'Central st 954'}\n",
      "{'name': 'Chuck', 'address': 'Main Road 989'}\n",
      "{'name': 'Viola', 'address': 'Sideway 1633'}\n",
      "{'name': 'Amy', 'address': 'Apple st 652'}\n",
      "{'name': 'Hannah', 'address': 'Mountain 21'}\n",
      "{'name': 'Michael', 'address': 'Valley 345'}\n",
      "{'name': 'Sandy', 'address': 'Ocean blvd 2'}\n",
      "{'name': 'Betty', 'address': 'Green Grass 1'}\n",
      "{'name': 'Richard', 'address': 'Sky st 331'}\n",
      "{'name': 'Susan', 'address': 'One way 98'}\n",
      "{'name': 'Vicky', 'address': 'Yellow Garden 2'}\n",
      "{'name': 'Ben', 'address': 'Park Lane 38'}\n",
      "{'name': 'William', 'address': 'Central st 954'}\n",
      "{'name': 'Chuck', 'address': 'Main Road 989'}\n",
      "{'name': 'Viola', 'address': 'Sideway 1633'}\n"
     ]
    }
   ],
   "source": [
    "for x in mycol.find({},{\"_id\":0, \"name\":1,\"address\":1}):\n",
    "    print(x)\n",
    "    "
   ]
  },
  {
   "cell_type": "code",
   "execution_count": 11,
   "metadata": {
    "ExecuteTime": {
     "end_time": "2020-06-04T06:12:51.728404Z",
     "start_time": "2020-06-04T06:12:51.718430Z"
    }
   },
   "outputs": [
    {
     "name": "stdout",
     "output_type": "stream",
     "text": [
      "{'_id': ObjectId('5ed7862a5c9af333d89aace7'), 'name': 'John', 'address': 'Highway 37'}\n",
      "{'_id': ObjectId('5ed786e75c9af333d89aace9'), 'name': 'Peter', 'address': 'Lowstreet 27'}\n",
      "{'_id': ObjectId('5ed787685c9af333d89aacec'), 'name': 'Amy', 'address': 'Apple st 652'}\n",
      "{'_id': ObjectId('5ed787685c9af333d89aaced'), 'name': 'Hannah', 'address': 'Mountain 21'}\n",
      "{'_id': ObjectId('5ed787685c9af333d89aacee'), 'name': 'Michael', 'address': 'Valley 345'}\n",
      "{'_id': ObjectId('5ed787685c9af333d89aacef'), 'name': 'Sandy', 'address': 'Ocean blvd 2'}\n",
      "{'_id': ObjectId('5ed787685c9af333d89aacf0'), 'name': 'Betty', 'address': 'Green Grass 1'}\n",
      "{'_id': ObjectId('5ed787685c9af333d89aacf1'), 'name': 'Richard', 'address': 'Sky st 331'}\n",
      "{'_id': ObjectId('5ed787685c9af333d89aacf2'), 'name': 'Susan', 'address': 'One way 98'}\n",
      "{'_id': ObjectId('5ed787685c9af333d89aacf3'), 'name': 'Vicky', 'address': 'Yellow Garden 2'}\n",
      "{'_id': ObjectId('5ed787685c9af333d89aacf4'), 'name': 'Ben', 'address': 'Park Lane 38'}\n",
      "{'_id': ObjectId('5ed787685c9af333d89aacf5'), 'name': 'William', 'address': 'Central st 954'}\n",
      "{'_id': ObjectId('5ed787685c9af333d89aacf6'), 'name': 'Chuck', 'address': 'Main Road 989'}\n",
      "{'_id': ObjectId('5ed787685c9af333d89aacf7'), 'name': 'Viola', 'address': 'Sideway 1633'}\n",
      "{'_id': ObjectId('5ed787e55c9af333d89aacfb'), 'name': 'Amy', 'address': 'Apple st 652'}\n",
      "{'_id': ObjectId('5ed787e55c9af333d89aacfc'), 'name': 'Hannah', 'address': 'Mountain 21'}\n",
      "{'_id': ObjectId('5ed787e55c9af333d89aacfd'), 'name': 'Michael', 'address': 'Valley 345'}\n",
      "{'_id': ObjectId('5ed787e55c9af333d89aacfe'), 'name': 'Sandy', 'address': 'Ocean blvd 2'}\n",
      "{'_id': ObjectId('5ed787e55c9af333d89aacff'), 'name': 'Betty', 'address': 'Green Grass 1'}\n",
      "{'_id': ObjectId('5ed787e55c9af333d89aad00'), 'name': 'Richard', 'address': 'Sky st 331'}\n",
      "{'_id': ObjectId('5ed787e55c9af333d89aad01'), 'name': 'Susan', 'address': 'One way 98'}\n",
      "{'_id': ObjectId('5ed787e55c9af333d89aad02'), 'name': 'Vicky', 'address': 'Yellow Garden 2'}\n",
      "{'_id': ObjectId('5ed787e55c9af333d89aad03'), 'name': 'Ben', 'address': 'Park Lane 38'}\n",
      "{'_id': ObjectId('5ed787e55c9af333d89aad04'), 'name': 'William', 'address': 'Central st 954'}\n",
      "{'_id': ObjectId('5ed787e55c9af333d89aad05'), 'name': 'Chuck', 'address': 'Main Road 989'}\n",
      "{'_id': ObjectId('5ed787e55c9af333d89aad06'), 'name': 'Viola', 'address': 'Sideway 1633'}\n"
     ]
    }
   ],
   "source": [
    "for x in mycol.find({},{ \"name\": 1, \"address\": 1 }):\n",
    "    print(x) "
   ]
  },
  {
   "cell_type": "code",
   "execution_count": null,
   "metadata": {},
   "outputs": [],
   "source": []
  }
 ],
 "metadata": {
  "kernelspec": {
   "display_name": "Python 3",
   "language": "python",
   "name": "python3"
  },
  "language_info": {
   "codemirror_mode": {
    "name": "ipython",
    "version": 3
   },
   "file_extension": ".py",
   "mimetype": "text/x-python",
   "name": "python",
   "nbconvert_exporter": "python",
   "pygments_lexer": "ipython3",
   "version": "3.6.6"
  }
 },
 "nbformat": 4,
 "nbformat_minor": 2
}
