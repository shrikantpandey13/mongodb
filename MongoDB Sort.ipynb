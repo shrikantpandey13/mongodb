{
 "cells": [
  {
   "cell_type": "markdown",
   "metadata": {},
   "source": [
    "Use the sort() method to sort the result in ascending or descending order.\n",
    "\n",
    "The sort() method takes one parameter for \"fieldname\" and one parameter for \"direction\" (ascending is the default direction)."
   ]
  },
  {
   "cell_type": "code",
   "execution_count": 1,
   "metadata": {
    "ExecuteTime": {
     "end_time": "2020-06-04T07:24:59.037784Z",
     "start_time": "2020-06-04T07:24:58.772388Z"
    }
   },
   "outputs": [
    {
     "name": "stdout",
     "output_type": "stream",
     "text": [
      "{'_id': ObjectId('5ed787685c9af333d89aacec'), 'name': 'Amy', 'address': 'Apple st 652'}\n",
      "{'_id': ObjectId('5ed787e55c9af333d89aacfb'), 'name': 'Amy', 'address': 'Apple st 652'}\n",
      "{'_id': ObjectId('5ed787685c9af333d89aacf4'), 'name': 'Ben', 'address': 'Park Lane 38'}\n",
      "{'_id': ObjectId('5ed787e55c9af333d89aad03'), 'name': 'Ben', 'address': 'Park Lane 38'}\n",
      "{'_id': ObjectId('5ed787685c9af333d89aacf0'), 'name': 'Betty', 'address': 'Green Grass 1'}\n",
      "{'_id': ObjectId('5ed787e55c9af333d89aacff'), 'name': 'Betty', 'address': 'Green Grass 1'}\n",
      "{'_id': ObjectId('5ed787685c9af333d89aacf6'), 'name': 'Chuck', 'address': 'Main Road 989'}\n",
      "{'_id': ObjectId('5ed787e55c9af333d89aad05'), 'name': 'Chuck', 'address': 'Main Road 989'}\n",
      "{'_id': ObjectId('5ed787685c9af333d89aaced'), 'name': 'Hannah', 'address': 'Mountain 21'}\n",
      "{'_id': ObjectId('5ed787e55c9af333d89aacfc'), 'name': 'Hannah', 'address': 'Mountain 21'}\n",
      "{'_id': ObjectId('5ed7862a5c9af333d89aace7'), 'name': 'John', 'address': 'Highway 37'}\n",
      "{'_id': ObjectId('5ed787685c9af333d89aacee'), 'name': 'Michael', 'address': 'Valley 345'}\n",
      "{'_id': ObjectId('5ed787e55c9af333d89aacfd'), 'name': 'Michael', 'address': 'Valley 345'}\n",
      "{'_id': ObjectId('5ed786e75c9af333d89aace9'), 'name': 'Peter', 'address': 'Lowstreet 27'}\n",
      "{'_id': ObjectId('5ed787685c9af333d89aacf1'), 'name': 'Richard', 'address': 'Sky st 331'}\n",
      "{'_id': ObjectId('5ed787e55c9af333d89aad00'), 'name': 'Richard', 'address': 'Sky st 331'}\n",
      "{'_id': ObjectId('5ed787685c9af333d89aacef'), 'name': 'Sandy', 'address': 'Ocean blvd 2'}\n",
      "{'_id': ObjectId('5ed787e55c9af333d89aacfe'), 'name': 'Sandy', 'address': 'Ocean blvd 2'}\n",
      "{'_id': ObjectId('5ed787685c9af333d89aacf2'), 'name': 'Susan', 'address': 'One way 98'}\n",
      "{'_id': ObjectId('5ed787e55c9af333d89aad01'), 'name': 'Susan', 'address': 'One way 98'}\n",
      "{'_id': ObjectId('5ed787685c9af333d89aacf3'), 'name': 'Vicky', 'address': 'Yellow Garden 2'}\n",
      "{'_id': ObjectId('5ed787e55c9af333d89aad02'), 'name': 'Vicky', 'address': 'Yellow Garden 2'}\n",
      "{'_id': ObjectId('5ed787685c9af333d89aacf7'), 'name': 'Viola', 'address': 'Sideway 1633'}\n",
      "{'_id': ObjectId('5ed787e55c9af333d89aad06'), 'name': 'Viola', 'address': 'Sideway 1633'}\n",
      "{'_id': ObjectId('5ed787685c9af333d89aacf5'), 'name': 'William', 'address': 'Central st 954'}\n",
      "{'_id': ObjectId('5ed787e55c9af333d89aad04'), 'name': 'William', 'address': 'Central st 954'}\n"
     ]
    }
   ],
   "source": [
    "import pymongo\n",
    "\n",
    "myclient = pymongo.MongoClient(\"mongodb://localhost:27017/\")\n",
    "mydb = myclient[\"mydatabase\"]\n",
    "mycol = mydb[\"customers\"]\n",
    "\n",
    "mydoc = mycol.find().sort(\"name\")\n",
    "\n",
    "for x in mydoc:\n",
    "    print(x)"
   ]
  },
  {
   "cell_type": "markdown",
   "metadata": {},
   "source": [
    "sort(\"filedname\", 1) #ascending <br>\n",
    "sort(\"filedname\", -1) #descending "
   ]
  },
  {
   "cell_type": "code",
   "execution_count": 2,
   "metadata": {
    "ExecuteTime": {
     "end_time": "2020-06-04T07:26:47.493432Z",
     "start_time": "2020-06-04T07:26:47.361668Z"
    }
   },
   "outputs": [
    {
     "name": "stdout",
     "output_type": "stream",
     "text": [
      "{'_id': ObjectId('5ed787685c9af333d89aacf5'), 'name': 'William', 'address': 'Central st 954'}\n",
      "{'_id': ObjectId('5ed787e55c9af333d89aad04'), 'name': 'William', 'address': 'Central st 954'}\n",
      "{'_id': ObjectId('5ed787685c9af333d89aacf7'), 'name': 'Viola', 'address': 'Sideway 1633'}\n",
      "{'_id': ObjectId('5ed787e55c9af333d89aad06'), 'name': 'Viola', 'address': 'Sideway 1633'}\n",
      "{'_id': ObjectId('5ed787685c9af333d89aacf3'), 'name': 'Vicky', 'address': 'Yellow Garden 2'}\n",
      "{'_id': ObjectId('5ed787e55c9af333d89aad02'), 'name': 'Vicky', 'address': 'Yellow Garden 2'}\n",
      "{'_id': ObjectId('5ed787685c9af333d89aacf2'), 'name': 'Susan', 'address': 'One way 98'}\n",
      "{'_id': ObjectId('5ed787e55c9af333d89aad01'), 'name': 'Susan', 'address': 'One way 98'}\n",
      "{'_id': ObjectId('5ed787685c9af333d89aacef'), 'name': 'Sandy', 'address': 'Ocean blvd 2'}\n",
      "{'_id': ObjectId('5ed787e55c9af333d89aacfe'), 'name': 'Sandy', 'address': 'Ocean blvd 2'}\n",
      "{'_id': ObjectId('5ed787685c9af333d89aacf1'), 'name': 'Richard', 'address': 'Sky st 331'}\n",
      "{'_id': ObjectId('5ed787e55c9af333d89aad00'), 'name': 'Richard', 'address': 'Sky st 331'}\n",
      "{'_id': ObjectId('5ed786e75c9af333d89aace9'), 'name': 'Peter', 'address': 'Lowstreet 27'}\n",
      "{'_id': ObjectId('5ed787685c9af333d89aacee'), 'name': 'Michael', 'address': 'Valley 345'}\n",
      "{'_id': ObjectId('5ed787e55c9af333d89aacfd'), 'name': 'Michael', 'address': 'Valley 345'}\n",
      "{'_id': ObjectId('5ed7862a5c9af333d89aace7'), 'name': 'John', 'address': 'Highway 37'}\n",
      "{'_id': ObjectId('5ed787685c9af333d89aaced'), 'name': 'Hannah', 'address': 'Mountain 21'}\n",
      "{'_id': ObjectId('5ed787e55c9af333d89aacfc'), 'name': 'Hannah', 'address': 'Mountain 21'}\n",
      "{'_id': ObjectId('5ed787685c9af333d89aacf6'), 'name': 'Chuck', 'address': 'Main Road 989'}\n",
      "{'_id': ObjectId('5ed787e55c9af333d89aad05'), 'name': 'Chuck', 'address': 'Main Road 989'}\n",
      "{'_id': ObjectId('5ed787685c9af333d89aacf0'), 'name': 'Betty', 'address': 'Green Grass 1'}\n",
      "{'_id': ObjectId('5ed787e55c9af333d89aacff'), 'name': 'Betty', 'address': 'Green Grass 1'}\n",
      "{'_id': ObjectId('5ed787685c9af333d89aacf4'), 'name': 'Ben', 'address': 'Park Lane 38'}\n",
      "{'_id': ObjectId('5ed787e55c9af333d89aad03'), 'name': 'Ben', 'address': 'Park Lane 38'}\n",
      "{'_id': ObjectId('5ed787685c9af333d89aacec'), 'name': 'Amy', 'address': 'Apple st 652'}\n",
      "{'_id': ObjectId('5ed787e55c9af333d89aacfb'), 'name': 'Amy', 'address': 'Apple st 652'}\n"
     ]
    }
   ],
   "source": [
    "mydoc = mycol.find().sort(\"name\",-1) # sort in descending order\n",
    "\n",
    "for x in mydoc:\n",
    "    print(x)"
   ]
  },
  {
   "cell_type": "code",
   "execution_count": null,
   "metadata": {},
   "outputs": [],
   "source": []
  }
 ],
 "metadata": {
  "kernelspec": {
   "display_name": "Python 3",
   "language": "python",
   "name": "python3"
  },
  "language_info": {
   "codemirror_mode": {
    "name": "ipython",
    "version": 3
   },
   "file_extension": ".py",
   "mimetype": "text/x-python",
   "name": "python",
   "nbconvert_exporter": "python",
   "pygments_lexer": "ipython3",
   "version": "3.6.6"
  }
 },
 "nbformat": 4,
 "nbformat_minor": 2
}
